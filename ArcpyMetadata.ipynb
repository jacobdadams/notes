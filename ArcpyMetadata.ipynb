{
 "cells": [
  {
   "cell_type": "code",
   "execution_count": 9,
   "metadata": {},
   "outputs": [],
   "source": [
    "import arcpy\n",
    "import arcgis\n",
    "import getpass"
   ]
  },
  {
   "cell_type": "code",
   "execution_count": 14,
   "metadata": {},
   "outputs": [],
   "source": [
    "featureclass = r'c:\\gis\\projects\\data\\data.gdb\\Parcels_Davis'\n",
    "agol_path = 'https://www.arcgis.com'\n",
    "agol_user = 'Jake.Adams@UtahAGRC'"
   ]
  },
  {
   "cell_type": "code",
   "execution_count": 11,
   "metadata": {},
   "outputs": [],
   "source": [
    "def copy_md(source, target):\n",
    "    target.credits = source.credits\n",
    "    target.description = source.description\n",
    "    target.summary = source.summary\n",
    "    target.tags = source.tags\n",
    "    target.title = source.title"
   ]
  },
  {
   "cell_type": "code",
   "execution_count": 12,
   "metadata": {},
   "outputs": [],
   "source": [
    "#: Get old, crusty metadata\n",
    "fc_md = arcpy.metadata.Metadata(featureclass)\n",
    "\n",
    "#: Copy over what we can to a temp Metadata() object\n",
    "temp_md = arcpy.metadata.Metadata()\n",
    "copy_md(fc_md, temp_md)\n",
    "\n",
    "#: Blow away the crusty metadata, replace with what we were able to copy from the temp object\n",
    "fc_md.copy(temp_md)\n",
    "fc_md.save()\n",
    "\n",
    "#: Synchronize to grab extent, SRS, etc\n",
    "fc_md.synchronize('OVERWRITE')\n",
    "fc_md.save()"
   ]
  },
  {
   "cell_type": "code",
   "execution_count": 15,
   "metadata": {},
   "outputs": [
    {
     "name": "stdout",
     "output_type": "stream",
     "text": [
      "········\n"
     ]
    }
   ],
   "source": [
    "#: Get AGOL item\n",
    "jake = arcgis.gis.GIS(agol_path, agol_user, getpass.getpass())\n",
    "item = jake.content.get('d2ea8eb22aa64d22800bc370bb1b128b')\n",
    "\n",
    "#: Overwrite agol metdata XML\n",
    "item.metadata = fc_md.xml\n",
    "\n",
    "#: Several AGOL properties are overwritten when we update the metadata XML:\n",
    "#: FC metadata field:       AGOL item field\n",
    "#: ----------------------------------------\n",
    "#: Summary (Purpose):      Summary\n",
    "#: Description (Abstract): Description\n",
    "#: Tags:                   Tags\n",
    "#: Credits:                Credits (Attribution)\n",
    "#: Use Limitation:         Terms of Use\n",
    "#: Overview -> Resource Citation Contacts: Open Data Source\n"
   ]
  },
  {
   "cell_type": "code",
   "execution_count": null,
   "metadata": {},
   "outputs": [],
   "source": []
  }
 ],
 "metadata": {
  "kernelspec": {
   "display_name": "Python 3",
   "language": "python",
   "name": "python3"
  },
  "language_info": {
   "codemirror_mode": {
    "name": "ipython",
    "version": 3
   },
   "file_extension": ".py",
   "mimetype": "text/x-python",
   "name": "python",
   "nbconvert_exporter": "python",
   "pygments_lexer": "ipython3",
   "version": "3.6.9"
  }
 },
 "nbformat": 4,
 "nbformat_minor": 2
}
