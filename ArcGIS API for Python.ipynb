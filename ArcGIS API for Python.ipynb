{
 "cells": [
  {
   "cell_type": "code",
   "execution_count": null,
   "metadata": {},
   "outputs": [],
   "source": [
    "import arcgis\n",
    "import getpass"
   ]
  },
  {
   "cell_type": "code",
   "execution_count": null,
   "metadata": {},
   "outputs": [],
   "source": [
    "#: Portal is either main AGOL site or a federated Portal's website\n",
    "portal = 'https://www.arcgis.com'\n",
    "user = 'UtahAGRC'  \n",
    "org = arcgis.gis.GIS(portal, user, getpass.getpass())  #: getpass() gets the password securely without storing it anywhere"
   ]
  },
  {
   "cell_type": "code",
   "execution_count": null,
   "metadata": {},
   "outputs": [],
   "source": [
    "#: Use the GroupManager to return object references for every group in the org\n",
    "groups = org.groups.search()\n",
    "for group in groups:\n",
    "    print(f'{group.id},\\t {group.title},\\t\\t\\t {group.owner}')\n",
    "\n"
   ]
  },
  {
   "cell_type": "code",
   "execution_count": null,
   "metadata": {},
   "outputs": [],
   "source": [
    "#: Use the UserManager to get the current user\n",
    "user_object = org.users.me"
   ]
  },
  {
   "cell_type": "code",
   "execution_count": null,
   "metadata": {},
   "outputs": [],
   "source": [
    "#: Groups the user is a member of\n",
    "user_object.groups"
   ]
  },
  {
   "cell_type": "code",
   "execution_count": null,
   "metadata": {},
   "outputs": [],
   "source": [
    "#: Get all items owned by current user using \n",
    "items = org.content.search(query=f'owner:{user}', \n",
    "                           item_type='Feature Layer', \n",
    "                           max_items=1000)  "
   ]
  },
  {
   "cell_type": "code",
   "execution_count": null,
   "metadata": {},
   "outputs": [],
   "source": [
    "#: passed empty like this, it only returns items in the root folder\n",
    "user_object.items()  \n",
    "\n",
    "#: So we pass it a folder\n",
    "user_object.items('AGRC')\n",
    "\n",
    "#: But what if we want everything owned by that user arranged by folder?\n",
    "#: Get a list of folder names, pass iteritively to .items()\n",
    "items_in_folders = []\n",
    "folders = [None]  #: Start with a None item that represents the root folder\n",
    "for folder in user_object.folders:\n",
    "    folders.append(folder['title'])\n",
    "    \n",
    "for folder in folders:  #: Have you ever noticed how weird 'folder' looks after typing it a hundred times?\n",
    "    for item in user_object.items(folder, 1000):\n",
    "        if item.type == 'Feature Service':\n",
    "            items_in_folders.append(item)\n",
    "            \n"
   ]
  },
  {
   "cell_type": "code",
   "execution_count": null,
   "metadata": {},
   "outputs": [],
   "source": [
    "#: \"Directly\" setting the metadata property is just a wrapper around item.update(metadata=xml_path)\n",
    "#: See `def metadata(self, value):` in site-packages\\arcgis\\gis\\__init__.py (line 7474 for me) "
   ]
  },
  {
   "cell_type": "code",
   "execution_count": null,
   "metadata": {},
   "outputs": [],
   "source": []
  }
 ],
 "metadata": {
  "kernelspec": {
   "display_name": "Python 3",
   "language": "python",
   "name": "python3"
  },
  "language_info": {
   "codemirror_mode": {
    "name": "ipython",
    "version": 3
   },
   "file_extension": ".py",
   "mimetype": "text/x-python",
   "name": "python",
   "nbconvert_exporter": "python",
   "pygments_lexer": "ipython3",
   "version": "3.6.9"
  }
 },
 "nbformat": 4,
 "nbformat_minor": 2
}
